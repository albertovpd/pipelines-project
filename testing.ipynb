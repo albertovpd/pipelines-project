{
 "cells": [
  {
   "cell_type": "code",
   "execution_count": 1,
   "metadata": {},
   "outputs": [],
   "source": [
    "    from uncertain_panda import pandas as pd\n",
    "    import numpy as np\n",
    "    import requests\n",
    "    from bs4 import BeautifulSoup\n",
    "    import matplotlib.pyplot as plt"
   ]
  },
  {
   "cell_type": "code",
   "execution_count": 2,
   "metadata": {},
   "outputs": [],
   "source": [
    "# my web to have information\n",
    "# https://www.kaggle.com/nicholasjhana/energy-consumption-generation-prices-and-weather#energy_dataset.csv\n",
    "\n",
    "# my web to have web scraping\n"
   ]
  },
  {
   "cell_type": "code",
   "execution_count": 3,
   "metadata": {},
   "outputs": [
    {
     "data": {
      "text/plain": [
       "(35064, 29)"
      ]
     },
     "execution_count": 3,
     "metadata": {},
     "output_type": "execute_result"
    }
   ],
   "source": [
    "data = pd.read_csv (\"./input/energy_dataset.csv\")\n",
    "data.shape"
   ]
  },
  {
   "cell_type": "code",
   "execution_count": 4,
   "metadata": {},
   "outputs": [
    {
     "data": {
      "text/plain": [
       "23"
      ]
     },
     "execution_count": 4,
     "metadata": {},
     "output_type": "execute_result"
    }
   ],
   "source": [
    "# Checking empty columns\n",
    "data.isnull().any().sum()"
   ]
  },
  {
   "cell_type": "code",
   "execution_count": 5,
   "metadata": {},
   "outputs": [],
   "source": [
    "#data.isnull().sum()"
   ]
  },
  {
   "cell_type": "code",
   "execution_count": 6,
   "metadata": {},
   "outputs": [
    {
     "data": {
      "text/plain": [
       "generation biomass                                19\n",
       "generation fossil brown coal/lignite              18\n",
       "generation fossil coal-derived gas                18\n",
       "generation fossil gas                             18\n",
       "generation fossil hard coal                       18\n",
       "generation fossil oil                             19\n",
       "generation fossil oil shale                       18\n",
       "generation fossil peat                            18\n",
       "generation geothermal                             18\n",
       "generation hydro pumped storage aggregated     35064\n",
       "generation hydro pumped storage consumption       19\n",
       "generation hydro run-of-river and poundage        19\n",
       "generation hydro water reservoir                  18\n",
       "generation marine                                 19\n",
       "generation nuclear                                17\n",
       "generation other                                  18\n",
       "generation other renewable                        18\n",
       "generation solar                                  18\n",
       "generation waste                                  19\n",
       "generation wind offshore                          18\n",
       "generation wind onshore                           18\n",
       "forecast wind offshore eday ahead              35064\n",
       "total load actual                                 36\n",
       "dtype: int64"
      ]
     },
     "execution_count": 6,
     "metadata": {},
     "output_type": "execute_result"
    }
   ],
   "source": [
    "# lets remove empty columns\n",
    "null_cols = data.isnull().sum()\n",
    "null_cols[null_cols > 0]"
   ]
  },
  {
   "cell_type": "code",
   "execution_count": 7,
   "metadata": {},
   "outputs": [],
   "source": [
    "drop_cols = list(null_cols[null_cols > 35000].index)\n",
    "data_clean1 = data.drop(drop_cols, axis=1)\n",
    "#display(data_clean1)"
   ]
  },
  {
   "cell_type": "code",
   "execution_count": 8,
   "metadata": {},
   "outputs": [],
   "source": [
    "#data_clean1.isnull().sum()"
   ]
  },
  {
   "cell_type": "code",
   "execution_count": 9,
   "metadata": {},
   "outputs": [
    {
     "data": {
      "text/plain": [
       "[None,\n",
       " None,\n",
       " None,\n",
       " None,\n",
       " None,\n",
       " None,\n",
       " None,\n",
       " None,\n",
       " None,\n",
       " None,\n",
       " None,\n",
       " None,\n",
       " None,\n",
       " None,\n",
       " None,\n",
       " None,\n",
       " None,\n",
       " None,\n",
       " None,\n",
       " None,\n",
       " None,\n",
       " None,\n",
       " None,\n",
       " None,\n",
       " None,\n",
       " None,\n",
       " None]"
      ]
     },
     "execution_count": 9,
     "metadata": {},
     "output_type": "execute_result"
    }
   ],
   "source": [
    "col_names=[]\n",
    "[col_names.append(e) for e in data_clean1]\n",
    "#print(col_names)"
   ]
  },
  {
   "cell_type": "code",
   "execution_count": 10,
   "metadata": {},
   "outputs": [],
   "source": [
    "# 1st project. \n",
    "# Get the mean of pricings per day.\n",
    "# get the mean per year\n",
    "# web scraping to relate with the average incomes\n",
    "\n",
    "economics = data_clean1[[\"time\",\"price day ahead\", \"price actual\"]].copy()\n",
    "#display(Economics)\n",
    "\n",
    "year=[]\n",
    "[year.append(int(e[0:4])) for e in economics[\"time\"]]\n",
    " \n",
    "economics[\"year\"]=year\n",
    "economics=economics.drop(\"time\",axis=1)\n",
    "    \n",
    "economics[\"price day ahead\"] = economics[\"price day ahead\"].astype(int)\n",
    "economics[\"price actual\"] = economics[\"price actual\"].astype(int)\n",
    "\n",
    "#display(economics)"
   ]
  },
  {
   "cell_type": "code",
   "execution_count": null,
   "metadata": {},
   "outputs": [],
   "source": [
    "\n",
    "        "
   ]
  },
  {
   "cell_type": "code",
   "execution_count": 11,
   "metadata": {},
   "outputs": [],
   "source": [
    "economics_values=economics.groupby(\"year\")[\"price day ahead\",\"price actual\"].mean()\n",
    "#display(economics_values)"
   ]
  },
  {
   "cell_type": "code",
   "execution_count": 12,
   "metadata": {},
   "outputs": [],
   "source": [
    "economics_error=economics.groupby(\"year\")[\"price day ahead\",\"price actual\"].unc.mean()"
   ]
  },
  {
   "cell_type": "code",
   "execution_count": 13,
   "metadata": {},
   "outputs": [],
   "source": [
    "newnames=economics_error.rename(columns={\"price day ahead\":\"uncertainty ahead\", \"price actual\":\"uncertainty actual\"})"
   ]
  },
  {
   "cell_type": "code",
   "execution_count": 14,
   "metadata": {},
   "outputs": [],
   "source": [
    "eco=economics_values.join(newnames)"
   ]
  },
  {
   "cell_type": "markdown",
   "metadata": {},
   "source": [
    "# Web scraping"
   ]
  },
  {
   "cell_type": "code",
   "execution_count": 15,
   "metadata": {},
   "outputs": [],
   "source": [
    "url=\"https://datosmacro.expansion.com/mercado-laboral/salario-medio/espana\""
   ]
  },
  {
   "cell_type": "code",
   "execution_count": 16,
   "metadata": {},
   "outputs": [],
   "source": [
    "res = requests.get(url)\n",
    "html = res.text\n",
    "html[:20]\n",
    "salary = BeautifulSoup(html, 'html.parser')"
   ]
  },
  {
   "cell_type": "code",
   "execution_count": 17,
   "metadata": {},
   "outputs": [],
   "source": [
    "repos = salary.select('tr')"
   ]
  },
  {
   "cell_type": "code",
   "execution_count": 18,
   "metadata": {},
   "outputs": [],
   "source": [
    "year=[]\n",
    "\n",
    "for x in repos[1:5]:\n",
    "    for i in x:\n",
    "        i=str(i)\n",
    "#        print(i)\n",
    "#        print(len(i))\n",
    "        year.append(i)"
   ]
  },
  {
   "cell_type": "code",
   "execution_count": 19,
   "metadata": {},
   "outputs": [],
   "source": [
    "dates=[]\n",
    "incomes=[]\n",
    "for x in year[0::3]:\n",
    "    dates.append(x[-9:-5])\n",
    "for x in year[1::3]:\n",
    "    incomes.append(x[-12:-6])\n",
    "spain=pd.DataFrame(dates,incomes)\n",
    "#display(spain)\n",
    "# performing this print(dates,incomes) we realised the order of our lists. so lets reverse it"
   ]
  },
  {
   "cell_type": "code",
   "execution_count": 20,
   "metadata": {},
   "outputs": [],
   "source": [
    "eco[\"average income\"]=incomes[::-1]"
   ]
  },
  {
   "cell_type": "code",
   "execution_count": 21,
   "metadata": {},
   "outputs": [],
   "source": [
    "ordered_dataset=eco[[\"average income\", \"price day ahead\", \"price actual\",\"uncertainty ahead\",\"uncertainty actual\"]]"
   ]
  },
  {
   "cell_type": "code",
   "execution_count": 22,
   "metadata": {},
   "outputs": [
    {
     "data": {
      "text/html": [
       "<div>\n",
       "<style scoped>\n",
       "    .dataframe tbody tr th:only-of-type {\n",
       "        vertical-align: middle;\n",
       "    }\n",
       "\n",
       "    .dataframe tbody tr th {\n",
       "        vertical-align: top;\n",
       "    }\n",
       "\n",
       "    .dataframe thead th {\n",
       "        text-align: right;\n",
       "    }\n",
       "</style>\n",
       "<table border=\"1\" class=\"dataframe\">\n",
       "  <thead>\n",
       "    <tr style=\"text-align: right;\">\n",
       "      <th></th>\n",
       "      <th>average income</th>\n",
       "      <th>price day ahead</th>\n",
       "      <th>price actual</th>\n",
       "      <th>uncertainty ahead</th>\n",
       "      <th>uncertainty actual</th>\n",
       "    </tr>\n",
       "    <tr>\n",
       "      <th>year</th>\n",
       "      <th></th>\n",
       "      <th></th>\n",
       "      <th></th>\n",
       "      <th></th>\n",
       "      <th></th>\n",
       "    </tr>\n",
       "  </thead>\n",
       "  <tbody>\n",
       "    <tr>\n",
       "      <td>2015</td>\n",
       "      <td>26.475</td>\n",
       "      <td>49.917352</td>\n",
       "      <td>60.870320</td>\n",
       "      <td>49.92+/-0.13</td>\n",
       "      <td>60.87+/-0.13</td>\n",
       "    </tr>\n",
       "    <tr>\n",
       "      <td>2016</td>\n",
       "      <td>26.449</td>\n",
       "      <td>39.249886</td>\n",
       "      <td>46.945583</td>\n",
       "      <td>39.25+/-0.16</td>\n",
       "      <td>46.95+/-0.15</td>\n",
       "    </tr>\n",
       "    <tr>\n",
       "      <td>2017</td>\n",
       "      <td>26.550</td>\n",
       "      <td>51.788470</td>\n",
       "      <td>58.830708</td>\n",
       "      <td>51.79+/-0.13</td>\n",
       "      <td>58.83+/-0.13</td>\n",
       "    </tr>\n",
       "    <tr>\n",
       "      <td>2018</td>\n",
       "      <td>26.923</td>\n",
       "      <td>56.856050</td>\n",
       "      <td>62.944292</td>\n",
       "      <td>56.86+/-0.14</td>\n",
       "      <td>62.94+/-0.13</td>\n",
       "    </tr>\n",
       "  </tbody>\n",
       "</table>\n",
       "</div>"
      ],
      "text/plain": [
       "     average income  price day ahead  price actual uncertainty ahead  \\\n",
       "year                                                                   \n",
       "2015         26.475        49.917352     60.870320      49.92+/-0.13   \n",
       "2016         26.449        39.249886     46.945583      39.25+/-0.16   \n",
       "2017         26.550        51.788470     58.830708      51.79+/-0.13   \n",
       "2018         26.923        56.856050     62.944292      56.86+/-0.14   \n",
       "\n",
       "     uncertainty actual  \n",
       "year                     \n",
       "2015       60.87+/-0.13  \n",
       "2016       46.95+/-0.15  \n",
       "2017       58.83+/-0.13  \n",
       "2018       62.94+/-0.13  "
      ]
     },
     "metadata": {},
     "output_type": "display_data"
    }
   ],
   "source": [
    "display(ordered_dataset)"
   ]
  },
  {
   "cell_type": "code",
   "execution_count": 23,
   "metadata": {},
   "outputs": [],
   "source": [
    "def decimals(data):\n",
    "\n",
    "    for x in data.columns[0:3]:\n",
    "        data[\"{}\".format(x)]=data[\"{}\".format(x)].astype(float)"
   ]
  },
  {
   "cell_type": "code",
   "execution_count": null,
   "metadata": {},
   "outputs": [],
   "source": [
    "  "
   ]
  },
  {
   "cell_type": "code",
   "execution_count": 33,
   "metadata": {},
   "outputs": [],
   "source": [
    "def results(a,b=None):\n",
    "        \n",
    "    if b==None:\n",
    "        if a not in ordered_dataset.columns:\n",
    "            a=input(\"Please, insert a valid column name for 1st input: \")\n",
    "            \n",
    "        if a in ordered_dataset.columns[0:3]:\n",
    "            plt.plot(ordered_dataset.index,ordered_dataset[a])\n",
    "            plt.xlabel(\"years\")\n",
    "            plt.ylabel(a)\n",
    "            return plt.show()\n",
    "        else:\n",
    "            return ordered_dataset[a]\n",
    "        \n",
    "    else:\n",
    "        if a not in ordered_dataset.columns:\n",
    "            a=input(\"Please, insert a valid column name for the 1st input: \")\n",
    "        if b not in ordered_dataset.columns:\n",
    "            b=input(\"Please, insert a valid column name for the 2nd input: \")\n",
    "        \n",
    "        if a in ordered_dataset.columns[0:3] and b in ordered_dataset.columns[0:3]:\n",
    "            plt.plot(ordered_dataset.index,ordered_dataset[a], ordered_dataset.index, ordered_dataset[b])\n",
    "            plt.xlabel(\"years\")\n",
    "            plt.ylabel(\"Blue 1st input, orange 2nd input\")\n",
    "            return plt.show()\n",
    "        \n",
    "        else:\n",
    "            return \"To perform multiple plotting you must the first 3 columns avaliables\""
   ]
  },
  {
   "cell_type": "code",
   "execution_count": 34,
   "metadata": {},
   "outputs": [
    {
     "data": {
      "text/plain": [
       "['average income',\n",
       " 'price day ahead',\n",
       " 'price actual',\n",
       " 'uncertainty ahead',\n",
       " 'uncertainty actual']"
      ]
     },
     "execution_count": 34,
     "metadata": {},
     "output_type": "execute_result"
    }
   ],
   "source": [
    "names=[]\n",
    "for e in ordered_dataset:\n",
    "    names.append(e)\n",
    "names  "
   ]
  },
  {
   "cell_type": "code",
   "execution_count": 35,
   "metadata": {},
   "outputs": [
    {
     "data": {
      "image/png": "[encoded data removed]",
      "text/plain": [
       "<Figure size 432x288 with 1 Axes>"
      ]
     },
     "metadata": {
      "needs_background": "light"
     },
     "output_type": "display_data"
    }
   ],
   "source": [
    "results(\"average income\")"
   ]
  },
  {
   "cell_type": "code",
   "execution_count": 36,
   "metadata": {},
   "outputs": [
    {
     "name": "stdin",
     "output_type": "stream",
     "text": [
      "Please, insert a valid column name for the 1st input:  average income\n"
     ]
    },
    {
     "data": {
      "image/png": "[encoded data removed]",
      "text/plain": [
       "<Figure size 432x288 with 1 Axes>"
      ]
     },
     "metadata": {
      "needs_background": "light"
     },
     "output_type": "display_data"
    }
   ],
   "source": [
    "results(\"arevage income\",\"price day ahead\")"
   ]
  },
  {
   "cell_type": "code",
   "execution_count": 29,
   "metadata": {},
   "outputs": [
    {
     "data": {
      "image/png": "[encoded data removed]",
      "text/plain": [
       "<Figure size 432x288 with 1 Axes>"
      ]
     },
     "metadata": {
      "needs_background": "light"
     },
     "output_type": "display_data"
    }
   ],
   "source": [
    "results(\"price day ahead\", \"price actual\")"
   ]
  },
  {
   "cell_type": "code",
   "execution_count": 37,
   "metadata": {},
   "outputs": [
    {
     "data": {
      "text/plain": [
       "year\n",
       "2015    60.87+/-0.13\n",
       "2016    46.95+/-0.15\n",
       "2017    58.83+/-0.13\n",
       "2018    62.94+/-0.13\n",
       "Name: uncertainty actual, dtype: object"
      ]
     },
     "execution_count": 37,
     "metadata": {},
     "output_type": "execute_result"
    }
   ],
   "source": [
    "results(\"uncertainty actual\")"
   ]
  },
  {
   "cell_type": "code",
   "execution_count": 35,
   "metadata": {},
   "outputs": [],
   "source": []
  },
  {
   "cell_type": "code",
   "execution_count": 35,
   "metadata": {},
   "outputs": [],
   "source": []
  },
  {
   "cell_type": "code",
   "execution_count": 35,
   "metadata": {},
   "outputs": [],
   "source": []
  },
  {
   "cell_type": "code",
   "execution_count": 35,
   "metadata": {},
   "outputs": [],
   "source": []
  },
  {
   "cell_type": "code",
   "execution_count": 35,
   "metadata": {},
   "outputs": [],
   "source": []
  },
  {
   "cell_type": "code",
   "execution_count": 35,
   "metadata": {},
   "outputs": [],
   "source": []
  },
  {
   "cell_type": "code",
   "execution_count": 35,
   "metadata": {},
   "outputs": [],
   "source": []
  },
  {
   "cell_type": "code",
   "execution_count": 29,
   "metadata": {},
   "outputs": [
    {
     "data": {
      "text/plain": [
       "'            \\n    else:\\n        if a not in ordered_dataset.columns:\\n        a=input(\"Please, insert a valid column name for 1st input: \")\\n    if b not in ordered_dataset.columns:\\n        b=input(\"Please, insert a valid column name for 1st input: \")\\n        \\n        if (a in eco.columns[0:3]) and (b in eco.columns[0:3]):\\n            #plt.plot(eco.index , eco[a] , eco.index , eco[b] )\\n            plt.plot(ordered_dataset.index,ordered_dataset[a], label=a)\\n            plt.plot(ordered_dataset.index,ordered_dataset[b], label=b)\\n            plt.xlabel(\"years\")\\n            return plt.show()\\n'"
      ]
     },
     "execution_count": 29,
     "metadata": {},
     "output_type": "execute_result"
    }
   ],
   "source": [
    "            \n",
    "            \n",
    "        \n",
    "'''            \n",
    "    else:\n",
    "        if a not in ordered_dataset.columns:\n",
    "        a=input(\"Please, insert a valid column name for 1st input: \")\n",
    "    if b not in ordered_dataset.columns:\n",
    "        b=input(\"Please, insert a valid column name for 1st input: \")\n",
    "        \n",
    "        if (a in eco.columns[0:3]) and (b in eco.columns[0:3]):\n",
    "            #plt.plot(eco.index , eco[a] , eco.index , eco[b] )\n",
    "            plt.plot(ordered_dataset.index,ordered_dataset[a], label=a)\n",
    "            plt.plot(ordered_dataset.index,ordered_dataset[b], label=b)\n",
    "            plt.xlabel(\"years\")\n",
    "            return plt.show()\n",
    "'''            "
   ]
  },
  {
   "cell_type": "code",
   "execution_count": 30,
   "metadata": {},
   "outputs": [
    {
     "data": {
      "image/png": "[encoded data removed]",
      "text/plain": [
       "<Figure size 432x288 with 1 Axes>"
      ]
     },
     "metadata": {
      "needs_background": "light"
     },
     "output_type": "display_data"
    }
   ],
   "source": [
    "results(\"average income\")"
   ]
  },
  {
   "cell_type": "code",
   "execution_count": null,
   "metadata": {},
   "outputs": [],
   "source": []
  },
  {
   "cell_type": "code",
   "execution_count": 31,
   "metadata": {},
   "outputs": [
    {
     "data": {
      "image/png": "[encoded data removed]",
      "text/plain": [
       "<Figure size 432x288 with 1 Axes>"
      ]
     },
     "metadata": {
      "needs_background": "light"
     },
     "output_type": "display_data"
    }
   ],
   "source": [
    "results(\"price day ahead\")"
   ]
  },
  {
   "cell_type": "code",
   "execution_count": 32,
   "metadata": {},
   "outputs": [
    {
     "data": {
      "image/png": "[encoded data removed]",
      "text/plain": [
       "<Figure size 432x288 with 1 Axes>"
      ]
     },
     "metadata": {
      "needs_background": "light"
     },
     "output_type": "display_data"
    }
   ],
   "source": [
    "results(\"price actual\")"
   ]
  },
  {
   "cell_type": "code",
   "execution_count": 33,
   "metadata": {},
   "outputs": [
    {
     "data": {
      "text/plain": [
       "year\n",
       "2015    49.92+/-0.14\n",
       "2016    39.25+/-0.15\n",
       "2017    51.79+/-0.13\n",
       "2018    56.86+/-0.14\n",
       "Name: uncertainty ahead, dtype: object"
      ]
     },
     "execution_count": 33,
     "metadata": {},
     "output_type": "execute_result"
    }
   ],
   "source": [
    "results(\"uncertainty ahead\")"
   ]
  },
  {
   "cell_type": "code",
   "execution_count": 34,
   "metadata": {},
   "outputs": [
    {
     "name": "stdin",
     "output_type": "stream",
     "text": [
      "Please, insert a valid column name for 1st input:  uncertainty actual\n"
     ]
    },
    {
     "data": {
      "text/plain": [
       "year\n",
       "2015    60.87+/-0.12\n",
       "2016    46.95+/-0.16\n",
       "2017    58.83+/-0.13\n",
       "2018    62.94+/-0.12\n",
       "Name: uncertainty actual, dtype: object"
      ]
     },
     "execution_count": 34,
     "metadata": {},
     "output_type": "execute_result"
    }
   ],
   "source": [
    "results(\"uncertanty actual\")"
   ]
  },
  {
   "cell_type": "code",
   "execution_count": 24,
   "metadata": {},
   "outputs": [],
   "source": [
    "'''\n",
    "def results(a,b=None):\n",
    "    while a not in eco.columns:\n",
    "        a=input(\"Please, insert a valid column name for 1st input: \")\n",
    "    while b not in eco.columns:\n",
    "        b=input(\"Please, insert a valid column name for 2nd input: \")\n",
    "        \n",
    "    print(eco[a],eco[b])\n",
    "    \n",
    "    if (a in eco.columns[0:3]) and (b in eco.columns[0:3]):\n",
    "        #plt.plot(eco.index , eco[a] , eco.index , eco[b] )\n",
    "        plt.plot(eco.index,eco[a], label=\"1st input\")\n",
    "        plt.plot(eco.index,eco[b], label=\"2nd input\")\n",
    "        plt.xlabel(\"years\")\n",
    "        return plt.show()\n",
    "'''\n",
    "\n",
    "        "
   ]
  },
  {
   "cell_type": "code",
   "execution_count": 25,
   "metadata": {},
   "outputs": [
    {
     "name": "stdin",
     "output_type": "stream",
     "text": [
      "Please, insert a valid column name for 2nd input:  price actual\n"
     ]
    },
    {
     "name": "stdout",
     "output_type": "stream",
     "text": [
      "year\n",
      "2015    49.917352\n",
      "2016    39.249886\n",
      "2017    51.788470\n",
      "2018    56.856050\n",
      "Name: price day ahead, dtype: float64 year\n",
      "2015    60.870320\n",
      "2016    46.945583\n",
      "2017    58.830708\n",
      "2018    62.944292\n",
      "Name: price actual, dtype: float64\n"
     ]
    },
    {
     "data": {
      "image/png": "[encoded data removed]",
      "text/plain": [
       "<Figure size 432x288 with 1 Axes>"
      ]
     },
     "metadata": {
      "needs_background": "light"
     },
     "output_type": "display_data"
    }
   ],
   "source": [
    "results('price day ahead')    "
   ]
  },
  {
   "cell_type": "code",
   "execution_count": null,
   "metadata": {},
   "outputs": [],
   "source": []
  },
  {
   "cell_type": "code",
   "execution_count": null,
   "metadata": {},
   "outputs": [],
   "source": []
  }
 ],
 "metadata": {
  "kernelspec": {
   "display_name": "Python 3",
   "language": "python",
   "name": "python3"
  },
  "language_info": {
   "codemirror_mode": {
    "name": "ipython",
    "version": 3
   },
   "file_extension": ".py",
   "mimetype": "text/x-python",
   "name": "python",
   "nbconvert_exporter": "python",
   "pygments_lexer": "ipython3",
   "version": "3.7.4"
  }
 },
 "nbformat": 4,
 "nbformat_minor": 4
}
